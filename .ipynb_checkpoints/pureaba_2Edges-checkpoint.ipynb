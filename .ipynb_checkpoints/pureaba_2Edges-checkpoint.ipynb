{
 "cells": [
  {
   "cell_type": "code",
   "execution_count": 1,
   "metadata": {},
   "outputs": [],
   "source": [
    "import ipyrad.analysis as ipa\n",
    "import ipcoal\n",
    "import toytree\n",
    "import toyplot\n",
    "import pandas as pd\n",
    "from ipyrad.analysis.baba21 import Drawing"
   ]
  },
  {
   "cell_type": "code",
   "execution_count": 2,
   "metadata": {},
   "outputs": [],
   "source": [
    "import random\n",
    "\n",
    "def generate_tests_from_names(sources, targets_raw, outgroup, no_repeat=True):\n",
    "    \n",
    "    if type(sources) is not list:\n",
    "        sources = [sources]\n",
    "    \n",
    "    if type(outgroup) is not list:\n",
    "        outgroup = [outgroup]\n",
    "    \n",
    "    #Declare empty result\n",
    "    tests =[]\n",
    "    \n",
    "    for source in sources:\n",
    "        #If in sources are the outgroup skip it\n",
    "        if source in outgroup:\n",
    "            continue\n",
    "        \n",
    "        \n",
    "        #New unlinked targets list every loop\n",
    "        targets = targets_raw.copy()\n",
    "            \n",
    "        #Remove source and outgroups in case they are repeated in the targets list\n",
    "        if source in targets:\n",
    "            targets.remove(source)\n",
    "        for i in outgroup:\n",
    "            if i in targets:\n",
    "                targets.remove(i) \n",
    "\n",
    "        #declare empty lists \n",
    "        included = []\n",
    "        \n",
    "\n",
    "        #Iterate over all targets\n",
    "        for i, _ in enumerate(targets):\n",
    "            #empty temp p variables\n",
    "            p1 = [] \n",
    "            p2 = []\n",
    "\n",
    "           #only do following if target was not already used (not in included)\n",
    "            if targets[i] not in included:\n",
    "                #use the first target as p1\n",
    "                p1 = [targets[i]]\n",
    "                #mark it is used appending to the list\n",
    "                if no_repeat: included.append(targets[i])\n",
    "                #avoid out of boundary errors\n",
    "                if i < len(targets)-1:\n",
    "                    #use the next target as p2\n",
    "                    if targets[i+1] not in included:\n",
    "                        p2 = [targets[i+1]]\n",
    "                        #mask it as used\n",
    "                        if no_repeat: included.append(targets[i+1])\n",
    "                else:\n",
    "                    #in case it is the last element (for odd number of targets, use a random one (but the current) as p2)\n",
    "                    targets.remove(targets[i])\n",
    "                    p2 =  [random.choice(targets)]\n",
    "\n",
    "                #append test to the return list\n",
    "                tests.append({'p1': p1, 'p2': p2, 'p3': [source], 'p4': outgroup})\n",
    "                \n",
    "    return tests #return list of dictionaries with every test"
   ]
  },
  {
   "cell_type": "code",
   "execution_count": 3,
   "metadata": {},
   "outputs": [],
   "source": [
    "def get_significant_donee(df_result, test):\n",
    "    if df_result[\"D\"].values[0] > 0:\n",
    "            significative_donee = test[\"p2\"]\n",
    "    elif df_result[\"D\"].values[0] < 0:\n",
    "        significative_donee = test[\"p1\"]\n",
    "    return significative_donee"
   ]
  },
  {
   "cell_type": "code",
   "execution_count": null,
   "metadata": {
    "scrolled": true
   },
   "outputs": [
    {
     "name": "stdout",
     "output_type": "stream",
     "text": [
      "35\n"
     ]
    }
   ],
   "source": [
    "## Test abbas in old fashion way to calculate the number of positives.\n",
    "\n",
    "##['70', '5', '18', [('r7', 'r15'), ('r7', 'r17'), ('r17', 'r6'), ('r18', 'r5')]]\n",
    "import os\n",
    "arr = os.listdir(\"/home/carlos/AutoABBA/scene_2/\")\n",
    "\n",
    "tips=20\n",
    "tree = toytree.rtree.baltree(ntips=tips, treeheight=10e6)\n",
    "\n",
    "final_result = []\n",
    "\n",
    "for hdf5 in arr: \n",
    "    \n",
    "#     trueSource, trueTarget = hdf5.split(\"_\")[2].split(\".\")[0].split(\"to\")\n",
    "    trues = [i.split(\"to\") for i in hdf5.split(\"_\")[2].split(\".\")[0].split(\"and\")]\n",
    "    test_id = hdf5.split(\"_\")[1]\n",
    "    \n",
    "    print (test_id)\n",
    "    \n",
    "    baba = ipa.baba21(f\"/home/carlos/AutoABBA/scene_2/{hdf5}\")\n",
    "    source = tree.get_tip_labels()\n",
    "    targets = tree.get_tip_labels()\n",
    "    outgroup = \"r19\"\n",
    "\n",
    "    tests = generate_tests_from_names(source, targets, outgroup, no_repeat=False)\n",
    "    \n",
    "    result = []\n",
    "    for i in tests:\n",
    "        try:\n",
    "            df = baba.run_test(i, nboots=100, quiet=True)\n",
    "        except:\n",
    "            continue\n",
    "        \n",
    "        if df[\"Z\"].values[0] > 2.5:\n",
    "            pair = (*i[\"p3\"], *get_significant_donee(df, i))\n",
    "            if pair not in result:\n",
    "                result.append(pair)\n",
    "\n",
    "\n",
    "\n",
    "    \n",
    "#     \n",
    "#     print([test_id, trueSource, trueTarget, result])\n",
    "#     final_result.append([test_id, trueSource, trueTarget, result])\n",
    "#     print(result)\n",
    "#     with open(\"fulldepur.txt\", \"a\") as f:\n",
    "#         f.write(str([test_id, trueSource, trueTarget, result])+ \"\\n\")\n",
    "    file = open(\"pureabbababa_s2.txt\", \"a\")\n",
    "    file.write(str([test_id, trues, result])+ \"\\n\")\n",
    "    file.close()"
   ]
  },
  {
   "cell_type": "code",
   "execution_count": null,
   "metadata": {},
   "outputs": [],
   "source": [
    "print(\"t\")"
   ]
  }
 ],
 "metadata": {
  "kernelspec": {
   "display_name": "Python 3.7.6 64-bit ('anaconda3': virtualenv)",
   "language": "python",
   "name": "python37664bitanaconda3virtualenv32f24a90012d4dbfb1dfe352b229909b"
  },
  "language_info": {
   "codemirror_mode": {
    "name": "ipython",
    "version": 3
   },
   "file_extension": ".py",
   "mimetype": "text/x-python",
   "name": "python",
   "nbconvert_exporter": "python",
   "pygments_lexer": "ipython3",
   "version": "3.7.6"
  },
  "toc": {
   "base_numbering": 1,
   "nav_menu": {},
   "number_sections": true,
   "sideBar": true,
   "skip_h1_title": false,
   "title_cell": "Table of Contents",
   "title_sidebar": "Contents",
   "toc_cell": false,
   "toc_position": {},
   "toc_section_display": true,
   "toc_window_display": false
  }
 },
 "nbformat": 4,
 "nbformat_minor": 4
}
